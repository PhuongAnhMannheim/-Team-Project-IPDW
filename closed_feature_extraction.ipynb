{
  "nbformat": 4,
  "nbformat_minor": 0,
  "metadata": {
    "colab": {
      "name": "closed feature extraction.ipynb",
      "version": "0.3.2",
      "provenance": [],
      "collapsed_sections": [
        "jyMF3AygRFKJ",
        "Kgch43Ay1u7P"
      ],
      "include_colab_link": true
    },
    "kernelspec": {
      "display_name": "Python 3",
      "language": "python",
      "name": "python3"
    }
  },
  "cells": [
    {
      "cell_type": "markdown",
      "metadata": {
        "id": "view-in-github",
        "colab_type": "text"
      },
      "source": [
        "<a href=\"https://colab.research.google.com/github/PhuongAnhMannheim/-Team-Project-IPDW/blob/master/closed_feature_extraction.ipynb\" target=\"_parent\"><img src=\"https://colab.research.google.com/assets/colab-badge.svg\" alt=\"Open In Colab\"/></a>"
      ]
    },
    {
      "metadata": {
        "id": "_ml3JMioYlE-",
        "colab_type": "text"
      },
      "cell_type": "markdown",
      "source": [
        "# Schema Mapping using closed feature extraction (FE)"
      ]
    },
    {
      "metadata": {
        "id": "jyMF3AygRFKJ",
        "colab_type": "text"
      },
      "cell_type": "markdown",
      "source": [
        "##Set up the environment\n"
      ]
    },
    {
      "metadata": {
        "id": "2iPJHz7RRH5V",
        "colab_type": "code",
        "colab": {}
      },
      "cell_type": "code",
      "source": [
        "# import required packages\n",
        "import numpy as np\n",
        "import pandas as pd\n",
        "import re\n",
        "import math\n",
        "\n",
        "# access Google Drive via Google Cloud SDK\n",
        "!pip install -U -q PyDrive\n",
        "from pydrive.auth import GoogleAuth\n",
        "from pydrive.drive import GoogleDrive\n",
        "from google.colab import auth\n",
        "from oauth2client.client import GoogleCredentials\n",
        "import os\n",
        "import pandas as pd\n",
        "auth.authenticate_user()\n",
        "gauth = GoogleAuth()\n",
        "gauth.credentials = GoogleCredentials.get_application_default()\n",
        "drive = GoogleDrive(gauth)\n"
      ],
      "execution_count": 0,
      "outputs": []
    },
    {
      "metadata": {
        "id": "NGdwe4FY05c9",
        "colab_type": "text"
      },
      "cell_type": "markdown",
      "source": [
        "## Loading the data sources"
      ]
    },
    {
      "metadata": {
        "id": "c9VoZwWl1g3W",
        "colab_type": "text"
      },
      "cell_type": "markdown",
      "source": [
        "###dogfood title"
      ]
    },
    {
      "metadata": {
        "id": "f3exCDkV1SAd",
        "colab_type": "code",
        "colab": {
          "base_uri": "https://localhost:8080/",
          "height": 35
        },
        "outputId": "b40b8d62-e908-4fb2-f6e6-7ff0e69111b3"
      },
      "cell_type": "code",
      "source": [
        "## get identifier of source file\n",
        "listed = drive.ListFile({'q': \"title contains 'dogfood_all_names.csv'\"}).GetList()\n",
        "for file in listed:\n",
        "  print('title {}, id {}'.format(file['title'], file['id']))\n",
        "### id from AllContentJsonLaptop.json = 10mVUzmjWrrHX0OCVYrEpDlKryLuVzqjX\n",
        "### id from dogfood_all_names.csv = 1_wYxyo-_rN6M5z6_1ZNIns3UrKCJ64gz\n",
        "\n",
        "## download file\n",
        "download_path = os.path.expanduser('~/data')\n",
        "try:\n",
        "  os.makedirs(download_path)\n",
        "except FileExistsError:\n",
        "  pass"
      ],
      "execution_count": 2,
      "outputs": [
        {
          "output_type": "stream",
          "text": [
            "title dogfood_all_names.csv, id 1_wYxyo-_rN6M5z6_1ZNIns3UrKCJ64gz\n"
          ],
          "name": "stdout"
        }
      ]
    },
    {
      "metadata": {
        "id": "sYW-41Eo2JVO",
        "colab_type": "code",
        "colab": {}
      },
      "cell_type": "code",
      "source": [
        "dogfood_title_file = os.path.join(download_path, 'dogfood_all_names.csv')\n",
        "temp_file = drive.CreateFile({'id': '1_wYxyo-_rN6M5z6_1ZNIns3UrKCJ64gz'})\n",
        "temp_file.GetContentFile(dogfood_title_file)\n",
        "\n",
        "##loading the file into pandas\n",
        "dogfood_title_data = pd.read_csv(dogfood_title_file)"
      ],
      "execution_count": 0,
      "outputs": []
    },
    {
      "metadata": {
        "id": "hSfM3r-DzKMG",
        "colab_type": "code",
        "colab": {
          "base_uri": "https://localhost:8080/",
          "height": 202
        },
        "outputId": "565121e4-e947-4956-a7fd-ec9604fddb0d"
      },
      "cell_type": "code",
      "source": [
        "dogfood_title_data.head()"
      ],
      "execution_count": 4,
      "outputs": [
        {
          "output_type": "execute_result",
          "data": {
            "text/html": [
              "<div>\n",
              "<style scoped>\n",
              "    .dataframe tbody tr th:only-of-type {\n",
              "        vertical-align: middle;\n",
              "    }\n",
              "\n",
              "    .dataframe tbody tr th {\n",
              "        vertical-align: top;\n",
              "    }\n",
              "\n",
              "    .dataframe thead th {\n",
              "        text-align: right;\n",
              "    }\n",
              "</style>\n",
              "<table border=\"1\" class=\"dataframe\">\n",
              "  <thead>\n",
              "    <tr style=\"text-align: right;\">\n",
              "      <th></th>\n",
              "      <th>name|\"offerID\"</th>\n",
              "    </tr>\n",
              "  </thead>\n",
              "  <tbody>\n",
              "    <tr>\n",
              "      <th>0</th>\n",
              "      <td>hills prescription diet canine j/d joint care|...</td>\n",
              "    </tr>\n",
              "    <tr>\n",
              "      <th>1</th>\n",
              "      <td>royal canin giant starter?- mother  babydog|\"b...</td>\n",
              "    </tr>\n",
              "    <tr>\n",
              "      <th>2</th>\n",
              "      <td>hills prescription diet canine d/d food sensit...</td>\n",
              "    </tr>\n",
              "    <tr>\n",
              "      <th>3</th>\n",
              "      <td>hills prescription diet canine z/d food sensit...</td>\n",
              "    </tr>\n",
              "    <tr>\n",
              "      <th>4</th>\n",
              "      <td>hills prescription diet canine u/d urinary car...</td>\n",
              "    </tr>\n",
              "  </tbody>\n",
              "</table>\n",
              "</div>"
            ],
            "text/plain": [
              "                                      name|\"offerID\"\n",
              "0  hills prescription diet canine j/d joint care|...\n",
              "1  royal canin giant starter?- mother  babydog|\"b...\n",
              "2  hills prescription diet canine d/d food sensit...\n",
              "3  hills prescription diet canine z/d food sensit...\n",
              "4  hills prescription diet canine u/d urinary car..."
            ]
          },
          "metadata": {
            "tags": []
          },
          "execution_count": 4
        }
      ]
    },
    {
      "metadata": {
        "id": "Kgch43Ay1u7P",
        "colab_type": "text"
      },
      "cell_type": "markdown",
      "source": [
        "###laptop title"
      ]
    },
    {
      "metadata": {
        "id": "niUUQcF310RY",
        "colab_type": "code",
        "colab": {
          "base_uri": "https://localhost:8080/",
          "height": 35
        },
        "outputId": "a79ea203-1c50-466d-8262-1011ea9adfda"
      },
      "cell_type": "code",
      "source": [
        "# get identifier of source file\n",
        "listed = drive.ListFile({'q': \"title contains 'laptop_all_names.csv'\"}).GetList()\n",
        "for file in listed:\n",
        "  print('title {}, id {}'.format(file['title'], file['id']))\n",
        "# id from AllContentJsonLaptop.json = 10mVUzmjWrrHX0OCVYrEpDlKryLuVzqjX\n",
        "# id from dogfood_all_names.csv = 1_wYxyo-_rN6M5z6_1ZNIns3UrKCJ64gz\n",
        "# id from laptop_all_names.csv = 1noquHOELRipJUPm7Vi0Hyvqz96xvaZ7U\n",
        "\n",
        "## download file\n",
        "download_path = os.path.expanduser('~/data')\n",
        "try:\n",
        "  os.makedirs(download_path)\n",
        "except FileExistsError:\n",
        "  pass"
      ],
      "execution_count": 5,
      "outputs": [
        {
          "output_type": "stream",
          "text": [
            "title laptop_all_names.csv, id 1noquHOELRipJUPm7Vi0Hyvqz96xvaZ7U\n"
          ],
          "name": "stdout"
        }
      ]
    },
    {
      "metadata": {
        "id": "HimKk8aq2Gtu",
        "colab_type": "code",
        "colab": {}
      },
      "cell_type": "code",
      "source": [
        "laptop_title_file = os.path.join(download_path, 'laptop_all_names.csv')\n",
        "temp_file = drive.CreateFile({'id': '1noquHOELRipJUPm7Vi0Hyvqz96xvaZ7U'})\n",
        "temp_file.GetContentFile(laptop_title_file)\n",
        "\n",
        "##loading the file into pandas\n",
        "laptop_title_data = pd.read_csv(laptop_title_file)"
      ],
      "execution_count": 0,
      "outputs": []
    },
    {
      "metadata": {
        "id": "-1o_xK4W2a5p",
        "colab_type": "code",
        "colab": {
          "base_uri": "https://localhost:8080/",
          "height": 202
        },
        "outputId": "fb677ca4-d323-4458-c8fe-d196862e984c"
      },
      "cell_type": "code",
      "source": [
        "laptop_title_data.head()"
      ],
      "execution_count": 7,
      "outputs": [
        {
          "output_type": "execute_result",
          "data": {
            "text/html": [
              "<div>\n",
              "<style scoped>\n",
              "    .dataframe tbody tr th:only-of-type {\n",
              "        vertical-align: middle;\n",
              "    }\n",
              "\n",
              "    .dataframe tbody tr th {\n",
              "        vertical-align: top;\n",
              "    }\n",
              "\n",
              "    .dataframe thead th {\n",
              "        text-align: right;\n",
              "    }\n",
              "</style>\n",
              "<table border=\"1\" class=\"dataframe\">\n",
              "  <thead>\n",
              "    <tr style=\"text-align: right;\">\n",
              "      <th></th>\n",
              "      <th>name|\"offerID\"</th>\n",
              "    </tr>\n",
              "  </thead>\n",
              "  <tbody>\n",
              "    <tr>\n",
              "      <th>0</th>\n",
              "      <td>zeepad 8in 1gb 8gb qc zeepad x8 wht 0852170006...</td>\n",
              "    </tr>\n",
              "    <tr>\n",
              "      <th>1</th>\n",
              "      <td>lenovo 8 tab 4 8 16gb tablet wi fi slate black...</td>\n",
              "    </tr>\n",
              "    <tr>\n",
              "      <th>2</th>\n",
              "      <td>116 32gb flex 11 multi touch 2 in 1 chromebook...</td>\n",
              "    </tr>\n",
              "    <tr>\n",
              "      <th>3</th>\n",
              "      <td>lenovo za270025us 2 in 1 116ampquot touch scre...</td>\n",
              "    </tr>\n",
              "    <tr>\n",
              "      <th>4</th>\n",
              "      <td>lenovo?n23 yoga chromebook mediatek mtk 8173c ...</td>\n",
              "    </tr>\n",
              "  </tbody>\n",
              "</table>\n",
              "</div>"
            ],
            "text/plain": [
              "                                      name|\"offerID\"\n",
              "0  zeepad 8in 1gb 8gb qc zeepad x8 wht 0852170006...\n",
              "1  lenovo 8 tab 4 8 16gb tablet wi fi slate black...\n",
              "2  116 32gb flex 11 multi touch 2 in 1 chromebook...\n",
              "3  lenovo za270025us 2 in 1 116ampquot touch scre...\n",
              "4  lenovo?n23 yoga chromebook mediatek mtk 8173c ..."
            ]
          },
          "metadata": {
            "tags": []
          },
          "execution_count": 7
        }
      ]
    },
    {
      "metadata": {
        "id": "GMJ_Wtk08aPu",
        "colab_type": "text"
      },
      "cell_type": "markdown",
      "source": [
        "###dogfood description"
      ]
    },
    {
      "metadata": {
        "id": "SyCQVeEr8dEj",
        "colab_type": "text"
      },
      "cell_type": "markdown",
      "source": [
        "###laptop description"
      ]
    },
    {
      "metadata": {
        "id": "q7WjAXvoYlFA",
        "colab_type": "text"
      },
      "cell_type": "markdown",
      "source": [
        "## Building the dictionary"
      ]
    },
    {
      "metadata": {
        "id": "SsFEkk3AYlFB",
        "colab_type": "text"
      },
      "cell_type": "markdown",
      "source": [
        "\n",
        "- Dictionary with multiple values for each key\n",
        "\n",
        "\n",
        "*   For the prodecure on obtaining the dictionary content the filter options of each website have been observed\n",
        "*   List item\n",
        "\n"
      ]
    },
    {
      "metadata": {
        "id": "tfDw1fo4YlFD",
        "colab_type": "code",
        "colab": {}
      },
      "cell_type": "code",
      "source": [
        "dogfood_dict = {\n",
        "    \"brand\": ['hill\\'s', 'Dr. Tim\\'s'],\n",
        "    \"lifestage\": ['Adult', 'Puppy', 'Senior', 'Large Breed', 'Small Breed', 'All Stages', 'All Lifestages', 'Junior', 'Not Specific', 'plus 7'], \n",
        "    \"breed size\": ['Extra Small', 'Giant', 'Large', 'Medium', 'Small', 'All Breeds', 'Not Specific', 'Maxi'],\n",
        "    \"breed type\": ['Labrador', 'Pug', 'Beagle', 'Retriever', 'Golden Retriever', 'Bolognese', 'Chihuahua', 'Chinese Crested Dog', 'Jagd Terrier', 'Affenpinscher', 'Australian Terrier', 'Airedale Terrier', 'Alaskan Malamute', 'Alpine Dachsbracke', 'Aidi', 'Akita', 'Bernese Mountain Dog', 'Rottweiler', 'Saint Bernard', 'Mastiff', 'Newfoundland'],\n",
        "    \"food type\": ['Dry', 'Canned', 'Freeze Dried', 'Frozen', 'Air-Dried', 'Digestive Aids', 'Pre-Mix', 'Hundefutter trocken', 'Hundefutter nass', 'Wet', 'Capsules', 'Dehydrated', 'Liquids', 'Sticks', 'Skin Care', 'Pain', 'Food Toppers', 'Food Roll', 'Food Pouch', 'Dehydrated Food', 'Freeze Dried Treats', 'Wet Food', ' Dry Food', ' Freeze-Dried', ' Food', ' Raw Food', ' Treats', ' Cold Treats'], \n",
        "    \"flavour\": ['Beef', 'Chicken', 'Egg', 'Lamb', 'Salmon', 'Turkey', 'Duck', 'Bison', 'Venison', 'Pork', 'Tuna', 'Trout', 'Whitefish', 'Herring', 'Rabbit', 'Liver', 'Bacon', 'Peanut Butter', 'Vegetable', 'Sweet Potato', 'Ham', 'Horse', 'Ostrich', 'Ox', 'Wild Boar'],\n",
        "    \"weight\": ['4 lbs', '5 lbs', '7 lbs', '6 lbs', '30 lbs', '40 lbs']    \n",
        "}\n"
      ],
      "execution_count": 0,
      "outputs": []
    },
    {
      "metadata": {
        "id": "OI9glUAV5vkJ",
        "colab_type": "code",
        "colab": {
          "base_uri": "https://localhost:8080/",
          "height": 35
        },
        "outputId": "b9e87954-ca6c-433b-faba-b54c42bea36d"
      },
      "cell_type": "code",
      "source": [
        "print(dogfood_dict['brand'][0])"
      ],
      "execution_count": 12,
      "outputs": [
        {
          "output_type": "stream",
          "text": [
            "Hill's\n"
          ],
          "name": "stdout"
        }
      ]
    },
    {
      "metadata": {
        "id": "neh2pU83Ib4Y",
        "colab_type": "code",
        "colab": {}
      },
      "cell_type": "code",
      "source": [
        "\n",
        "if 'hill' in dogfood_dict\n",
        "return str_attr"
      ],
      "execution_count": 0,
      "outputs": []
    },
    {
      "metadata": {
        "id": "VeOsmmNYbNkx",
        "colab_type": "code",
        "colab": {}
      },
      "cell_type": "code",
      "source": [
        "laptop_dict = {\n",
        "    \"condition\": ['Refurbished Laptops', ' All Laptop Computers', ' New', ' Pre-Owned', ' Refurbished', ' Open-Box'],\n",
        "    \"type\": ['2-in-1 Laptops', ' Touchscreen Laptops', ' Gaming Laptops', ' Google Chromebooks', ' Windows 10 Laptops', ' Ultrabook Laptops', ' Apple Laptops', ' Laptops', ' Windows 10 PCs', ' MacBooks', ' Notebooks', ' Ultrabook', ' Workstations', ' Notebook', ' Mobile Workstation', ' Gaming Notebook', ' 2 in 1 Chromebook', ' Netbook', ' Mobile Workstation Ultrabook', ' 2 in 1 Ultrabook', ' 2 in 1 Mobile Workstation', ' Thin Client Notebook'],\n",
        "    \"brand\": ['HP Laptops', 'Dell Laptops', 'Lenovo Laptops', 'ASUS Laptops', 'Samsung Laptops', 'Alienware Laptops', 'HP Omen Laptops', 'Acer Laptops', 'Toshiba Laptops', 'Surface Laptops', 'MSI Laptops', 'Microsoft', 'Dell', 'HP', 'Lenovo', 'ASUS', 'Acer', 'Samsung', 'MSI', 'Alienware', 'LG', 'Razer', 'Toshiba', 'Hyundai', 'Wacom', 'HP OMEN', 'Asus', 'Dell Computer', 'Google', 'HUAWEI', 'Lenovo', 'LG', 'Panasonic', 'Samsung', 'Toshiba  Acer', 'Apple', 'Ematic', 'EVGA', 'Sony', 'Fijitsu', 'HP Inc', 'CTL'],\n",
        "    \"OS\": ['Google Chrome', 'HP ThinPro', 'Windows', 'Windows 7', 'Windows 7 Professional', 'Windows 8', 'Windows 8.1', 'Windows 8.1 Professional', 'Windows 10', 'Windows 10 Professional', 'macOS', 'Mac OS X', 'Windows 10 Pro', 'Windows S', 'Windows 10', 'Windows 7 Pro/ Windows 10 Pro', 'Windows 7 Pro 64 bit', 'Windows 7 Pro'],\n",
        "    \"RAM size\": ['1GB', '2GB', '4GB', '6GB', '8GB', '12GB', '16GB', '32GB', '64GB', '32 gigabytes', '16 gigabytes', '12 gigabytes', '8GB', '8 gigabytes', '6 gigabytes', '4 gigabytes', '2 gigabytes'],\n",
        "    \"screen size\": ['10 Inch Laptops', '12 Inch Laptops', '13 Inch Laptops', '14 Inch Laptops', '15 Inch Laptops', '10\"', '10.1\"', '12\"', '12.2\"', '12.3\"', '12.5\"', '13\"', '13.5\"', '14\"', '15\"', '11.6\"', '13.1\"', '13.3\"', '13.9\"', '15.4\"', '15.6\"', '17\"', '17.3\"', '18.4\"'],\n",
        "    \"graphic card brand\": ['AMD', 'Intel', 'None', 'NVIDIA', 'Other'],\n",
        "    \"hard drive size\": ['1TB', '1TB + 1TB', '1TB + 128GB', '1TB + 256GB', '2TB', '4TB', '16GB', '32GB', '64GB', '128GB', '256GB', '500GB', '512GB'],\n",
        "    \"processor model\": ['Intel 1st Generation Core i5', 'Intel 2nd Generation Core i5', 'Intel 2nd Generation Core i7', 'Intel 3rd Generation Core i5', 'Intel 3rd Generation Core i7', 'Intel 4th Generation Core i3', 'Intel 4th Generation Core i5', 'Intel 4th Generation Core i7', 'Intel 5th Generation Core i3', 'Intel 5th Generation Core i5', 'Intel 5th Generation Core i7', 'Intel 6th Generation Core i3', 'Intel 6th Generation Core i5', 'Intel 6th Generation Core i7', 'Intel 7th Generation Core i3', 'Intel 7th Generation Core i5', 'Intel 7th Generation Core i7', 'Intel 7th Generation Core i9', 'Intel 8th Generation Core i3', 'Intel 8th Generation Core i5', 'Intel 8th Generation Core i7', 'Intel 8th Generation Core i9', 'Intel Atom', 'Intel Celeron', 'Intel Core2 Duo', 'Intel Core i5', 'Intel Core i7', 'Intel Core M', 'Intel Core m3', 'Intel Core m5', 'Intel Core m7', 'Intel Pentium'],\n",
        "    \"processor brand\": ['Intel', 'AMD', 'Samsung', 'MediaTek', 'ARM']\n",
        "}"
      ],
      "execution_count": 0,
      "outputs": []
    },
    {
      "metadata": {
        "id": "msgmw2bG44Cg",
        "colab_type": "text"
      },
      "cell_type": "markdown",
      "source": [
        "##Building extraction functionalities"
      ]
    },
    {
      "metadata": {
        "id": "QpRc9ttT4-0K",
        "colab_type": "text"
      },
      "cell_type": "markdown",
      "source": [
        "###overlap"
      ]
    },
    {
      "metadata": {
        "id": "0kMTsaba43MN",
        "colab_type": "code",
        "colab": {}
      },
      "cell_type": "code",
      "source": [
        "class Dogfood_Title_Overlap():\n",
        "  def _init_(self,list_content,list_id,list_attr,attr_select):\n",
        "      self.list_content=list_content\n",
        "      self.list_id=list_id\n",
        "      self.list_attr=list_attr\n",
        "      self.attr_select=arr_select\n",
        "    \n",
        "  def get_attribute(self):\n",
        "    dict_item=dict()\n",
        "    for i in range(len(self.list_id)):\n",
        "      list_row = list()\n",
        "      str_single=self.list_content[i]\n",
        "      for pos in range(len(self.list_attr)):\n",
        "          attr=eval(\"self.%s(str_single)\" %(\"get_\"+list_attr[pos]))\n",
        "          list_row.append(attr)\n",
        "      dict_item[self.list_id[i]]=list_row\n",
        "\n",
        "    return dict_item  \n",
        "  \n",
        "  def get_brand(self,str_single):\n",
        "    if str_attr in dogfood_dict\n",
        "    return str_attr\n",
        "    "
      ],
      "execution_count": 0,
      "outputs": []
    },
    {
      "metadata": {
        "id": "ovEbEnAVCm2f",
        "colab_type": "code",
        "colab": {}
      },
      "cell_type": "code",
      "source": [
        "#try-out of overlap function\n",
        "if __name__==\"__main__\":\n",
        "    str1 = \"hills science diet adult 7+ perfect weight chicken recipe dry dog food 40oz x12 bag\"\n",
        "    str2 = \"hills science diet adult 11+ small  toy breed age defying chicken meal rice  barley recipe dry dog food case of 20 4.5 kg bag\"\n",
        "    list1 = [str1, str2]\n",
        "    list2 = [\"str1\",\"str2\"]\n",
        "    rd=Dogfood_Title_Overlap(list1,list2,list_attr,attr_select)\n",
        "    dict_item=rd.get_attribute()\n",
        "    print(dict_item)"
      ],
      "execution_count": 0,
      "outputs": []
    },
    {
      "metadata": {
        "id": "AbqGQ_QfYlFI",
        "colab_type": "text"
      },
      "cell_type": "markdown",
      "source": [
        "## Loading features from dicts"
      ]
    },
    {
      "metadata": {
        "id": "2pqRPSXkYlFK",
        "colab_type": "code",
        "outputId": "c136b0e1-101a-4876-c945-e57d67139edf",
        "colab": {}
      },
      "cell_type": "code",
      "source": [
        "from sklearn.feature_extraction import DictVectorizer\n",
        "vec = DictVectorizer()\n",
        "\n",
        "vec.fit_transform(dogfood_dict).toarray()\n",
        "\n",
        "vec.get_feature-names()"
      ],
      "execution_count": 0,
      "outputs": [
        {
          "output_type": "error",
          "ename": "ValueError",
          "evalue": "could not convert string to float: 'Blue Buffalo'",
          "traceback": [
            "\u001b[1;31m---------------------------------------------------------------------------\u001b[0m",
            "\u001b[1;31mValueError\u001b[0m                                Traceback (most recent call last)",
            "\u001b[1;32m<ipython-input-5-87905cfdc66d>\u001b[0m in \u001b[0;36m<module>\u001b[1;34m()\u001b[0m\n\u001b[0;32m      2\u001b[0m \u001b[0mvec\u001b[0m \u001b[1;33m=\u001b[0m \u001b[0mDictVectorizer\u001b[0m\u001b[1;33m(\u001b[0m\u001b[1;33m)\u001b[0m\u001b[1;33m\u001b[0m\u001b[0m\n\u001b[0;32m      3\u001b[0m \u001b[1;33m\u001b[0m\u001b[0m\n\u001b[1;32m----> 4\u001b[1;33m \u001b[0mvec\u001b[0m\u001b[1;33m.\u001b[0m\u001b[0mfit_transform\u001b[0m\u001b[1;33m(\u001b[0m\u001b[0mdogfood_dict\u001b[0m\u001b[1;33m)\u001b[0m\u001b[1;33m.\u001b[0m\u001b[0mtoarray\u001b[0m\u001b[1;33m(\u001b[0m\u001b[1;33m)\u001b[0m\u001b[1;33m\u001b[0m\u001b[0m\n\u001b[0m\u001b[0;32m      5\u001b[0m \u001b[1;33m\u001b[0m\u001b[0m\n\u001b[0;32m      6\u001b[0m \u001b[0mvec\u001b[0m\u001b[1;33m.\u001b[0m\u001b[0mget_feature\u001b[0m\u001b[1;33m-\u001b[0m\u001b[0mnames\u001b[0m\u001b[1;33m(\u001b[0m\u001b[1;33m)\u001b[0m\u001b[1;33m\u001b[0m\u001b[0m\n",
            "\u001b[1;32m~\\AppData\\Local\\Continuum\\anaconda3\\lib\\site-packages\\sklearn\\feature_extraction\\dict_vectorizer.py\u001b[0m in \u001b[0;36mfit_transform\u001b[1;34m(self, X, y)\u001b[0m\n\u001b[0;32m    228\u001b[0m             \u001b[0mFeature\u001b[0m \u001b[0mvectors\u001b[0m\u001b[1;33m;\u001b[0m \u001b[0malways\u001b[0m \u001b[1;36m2\u001b[0m\u001b[1;33m-\u001b[0m\u001b[0md\u001b[0m\u001b[1;33m.\u001b[0m\u001b[1;33m\u001b[0m\u001b[0m\n\u001b[0;32m    229\u001b[0m         \"\"\"\n\u001b[1;32m--> 230\u001b[1;33m         \u001b[1;32mreturn\u001b[0m \u001b[0mself\u001b[0m\u001b[1;33m.\u001b[0m\u001b[0m_transform\u001b[0m\u001b[1;33m(\u001b[0m\u001b[0mX\u001b[0m\u001b[1;33m,\u001b[0m \u001b[0mfitting\u001b[0m\u001b[1;33m=\u001b[0m\u001b[1;32mTrue\u001b[0m\u001b[1;33m)\u001b[0m\u001b[1;33m\u001b[0m\u001b[0m\n\u001b[0m\u001b[0;32m    231\u001b[0m \u001b[1;33m\u001b[0m\u001b[0m\n\u001b[0;32m    232\u001b[0m     \u001b[1;32mdef\u001b[0m \u001b[0minverse_transform\u001b[0m\u001b[1;33m(\u001b[0m\u001b[0mself\u001b[0m\u001b[1;33m,\u001b[0m \u001b[0mX\u001b[0m\u001b[1;33m,\u001b[0m \u001b[0mdict_type\u001b[0m\u001b[1;33m=\u001b[0m\u001b[0mdict\u001b[0m\u001b[1;33m)\u001b[0m\u001b[1;33m:\u001b[0m\u001b[1;33m\u001b[0m\u001b[0m\n",
            "\u001b[1;32m~\\AppData\\Local\\Continuum\\anaconda3\\lib\\site-packages\\sklearn\\feature_extraction\\dict_vectorizer.py\u001b[0m in \u001b[0;36m_transform\u001b[1;34m(self, X, fitting)\u001b[0m\n\u001b[0;32m    176\u001b[0m                         \u001b[0mvocab\u001b[0m\u001b[1;33m[\u001b[0m\u001b[0mf\u001b[0m\u001b[1;33m]\u001b[0m \u001b[1;33m=\u001b[0m \u001b[0mlen\u001b[0m\u001b[1;33m(\u001b[0m\u001b[0mvocab\u001b[0m\u001b[1;33m)\u001b[0m\u001b[1;33m\u001b[0m\u001b[0m\n\u001b[0;32m    177\u001b[0m                         \u001b[0mindices\u001b[0m\u001b[1;33m.\u001b[0m\u001b[0mappend\u001b[0m\u001b[1;33m(\u001b[0m\u001b[0mvocab\u001b[0m\u001b[1;33m[\u001b[0m\u001b[0mf\u001b[0m\u001b[1;33m]\u001b[0m\u001b[1;33m)\u001b[0m\u001b[1;33m\u001b[0m\u001b[0m\n\u001b[1;32m--> 178\u001b[1;33m                         \u001b[0mvalues\u001b[0m\u001b[1;33m.\u001b[0m\u001b[0mappend\u001b[0m\u001b[1;33m(\u001b[0m\u001b[0mdtype\u001b[0m\u001b[1;33m(\u001b[0m\u001b[0mv\u001b[0m\u001b[1;33m)\u001b[0m\u001b[1;33m)\u001b[0m\u001b[1;33m\u001b[0m\u001b[0m\n\u001b[0m\u001b[0;32m    179\u001b[0m \u001b[1;33m\u001b[0m\u001b[0m\n\u001b[0;32m    180\u001b[0m             \u001b[0mindptr\u001b[0m\u001b[1;33m.\u001b[0m\u001b[0mappend\u001b[0m\u001b[1;33m(\u001b[0m\u001b[0mlen\u001b[0m\u001b[1;33m(\u001b[0m\u001b[0mindices\u001b[0m\u001b[1;33m)\u001b[0m\u001b[1;33m)\u001b[0m\u001b[1;33m\u001b[0m\u001b[0m\n",
            "\u001b[1;31mValueError\u001b[0m: could not convert string to float: 'Blue Buffalo'"
          ]
        }
      ]
    },
    {
      "metadata": {
        "id": "_sRELhqpYlFQ",
        "colab_type": "text"
      },
      "cell_type": "markdown",
      "source": [
        "## Text feature extraction"
      ]
    },
    {
      "metadata": {
        "id": "gIFJHrctRoBH",
        "colab_type": "code",
        "colab": {}
      },
      "cell_type": "code",
      "source": [
        ""
      ],
      "execution_count": 0,
      "outputs": []
    },
    {
      "metadata": {
        "id": "y6lvm25mRoPK",
        "colab_type": "text"
      },
      "cell_type": "markdown",
      "source": [
        "retrieve feature distribution\n",
        "calculate as % (from the total of webpages?)\n"
      ]
    },
    {
      "metadata": {
        "id": "8g6vjd8NUSAS",
        "colab_type": "code",
        "colab": {}
      },
      "cell_type": "code",
      "source": [
        ""
      ],
      "execution_count": 0,
      "outputs": []
    },
    {
      "metadata": {
        "id": "rH_GyHtu1A_7",
        "colab_type": "text"
      },
      "cell_type": "markdown",
      "source": [
        "###save / store extracted value in csv"
      ]
    },
    {
      "metadata": {
        "id": "nPd6x6tt1AKI",
        "colab_type": "code",
        "colab": {}
      },
      "cell_type": "code",
      "source": [
        ""
      ],
      "execution_count": 0,
      "outputs": []
    }
  ]
}